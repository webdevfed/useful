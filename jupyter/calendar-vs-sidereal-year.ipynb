{
 "cells": [
  {
   "cell_type": "markdown",
   "id": "3cb5955e",
   "metadata": {},
   "source": [
    "### leap years\n",
    "\n",
    "calendar vs sidereal year\n",
    "\n",
    "source: https://airandspace.si.edu/stories/editorial/science-leap-year"
   ]
  },
  {
   "cell_type": "code",
   "execution_count": 3,
   "id": "0d914fea",
   "metadata": {},
   "outputs": [
    {
     "name": "stdout",
     "output_type": "stream",
     "text": [
      "1460\n",
      "1460.96876\n"
     ]
    }
   ],
   "source": [
    "calendar_year = 365\n",
    "sidereal_year = 365.242190\n",
    "\n",
    "print(calendar_year * 4)\n",
    "print(sidereal_year * 4)"
   ]
  },
  {
   "cell_type": "code",
   "execution_count": 21,
   "id": "e0e303e7",
   "metadata": {},
   "outputs": [
    {
     "name": "stdout",
     "output_type": "stream",
     "text": [
      "adjusted days in 4 years: 1461\n"
     ]
    }
   ],
   "source": [
    "# after 4 calendar years, we are almost a day behind so we need a leap year to correct drift\n",
    "\n",
    "leap_year = 366\n",
    "\n",
    "print(\"adjusted days in 4 years:\",calendar_year * 3 + leap_year)"
   ]
  },
  {
   "cell_type": "code",
   "execution_count": 18,
   "id": "f2cb129b",
   "metadata": {},
   "outputs": [
    {
     "name": "stdout",
     "output_type": "stream",
     "text": [
      "drift in days in 4 years time:  0.031240000000025248\n"
     ]
    }
   ],
   "source": [
    "# another drift appears due to rounding \n",
    "\n",
    "drift_in_days = calendar_year * 3 + leap_year - sidereal_year * 4\n",
    "print(\"drift in days in 4 years time: \", drift_in_days)"
   ]
  },
  {
   "cell_type": "code",
   "execution_count": 17,
   "id": "3d8dbfa7",
   "metadata": {},
   "outputs": [
    {
     "name": "stdout",
     "output_type": "stream",
     "text": [
      "drift in hours:  0.7497600000006059\n",
      "drift in minutes:  44.98560000003636\n"
     ]
    }
   ],
   "source": [
    "drift_in_hours = 24 * drift_in_days\n",
    "print(\"drift in hours: \", drift_in_hours)\n",
    "print(\"drift in minutes: \", drift_in_hours * 60)"
   ]
  },
  {
   "cell_type": "code",
   "execution_count": 19,
   "id": "fc0d8184",
   "metadata": {},
   "outputs": [
    {
     "name": "stdout",
     "output_type": "stream",
     "text": [
      "drift in days in 400 years time: 3.1240000000025248\n"
     ]
    }
   ],
   "source": [
    "# to adjust to this new drift, some years will not be leap years\n",
    "# years that are divisible by 100, but not 400 will not be leap years\n",
    "# -> 1700, 1800, 1900\n",
    "\n",
    "drift_in_400_years_in_days = 400 / 4 * 0.031240000000025248\n",
    "print(\"drift in days in 400 years time:\", drift_in_400_years_in_days)"
   ]
  },
  {
   "cell_type": "code",
   "execution_count": null,
   "id": "787d241f",
   "metadata": {},
   "outputs": [],
   "source": [
    "# non 100 divisible years in 400 years period\n",
    "\n",
    "non_400_div_years_remainders = (100, 200, 300)\n",
    "\n",
    "# which are 3, so this corrects the ~ 3 days drift accumulated in 400 years"
   ]
  }
 ],
 "metadata": {
  "kernelspec": {
   "display_name": "Python 3 (ipykernel)",
   "language": "python",
   "name": "python3"
  },
  "language_info": {
   "codemirror_mode": {
    "name": "ipython",
    "version": 3
   },
   "file_extension": ".py",
   "mimetype": "text/x-python",
   "name": "python",
   "nbconvert_exporter": "python",
   "pygments_lexer": "ipython3",
   "version": "3.9.13"
  }
 },
 "nbformat": 4,
 "nbformat_minor": 5
}
